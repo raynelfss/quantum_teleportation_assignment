{
 "cells": [
  {
   "cell_type": "markdown",
   "id": "f34da838-0a44-4b5e-9920-db35651d5d5d",
   "metadata": {},
   "source": [
    "<div class=\"alert alert-info\">\n",
    "    <h1><strong>EQCI Day 9: </strong>Assignment</h1>\n",
    "    <h2>Quantum Teleportation</h2>\n",
    "</div>"
   ]
  },
  {
   "cell_type": "code",
   "execution_count": 45,
   "id": "a3c302f5-e4fe-47c1-ae8e-69f16e3fce92",
   "metadata": {},
   "outputs": [],
   "source": [
    "from qiskit import QuantumRegister, ClassicalRegister, QuantumCircuit, Aer, execute\n",
    "from qiskit.quantum_info import Statevector\n",
    "from qiskit.extensions import Initialize\n",
    "import numpy as np\n",
    "import matplotlib.pyplot as plt\n",
    "%matplotlib inline"
   ]
  },
  {
   "cell_type": "markdown",
   "id": "08f07cc1-befe-4ac1-a856-824361deeb05",
   "metadata": {},
   "source": [
    "# In this programming challenge we will code a Quantum Teleportation protocol!\n",
    "\n",
    "Before we get ahead of ourselves, let's clarify what we mean by *teleportation*.\n",
    "\n",
    "I'm sure that when I say teleportation, you may be thinking of something like this:\n",
    "\n",
    "<img src=\"https://media2.giphy.com/media/3o7TKLzBYFrRWcXk9q/200.gif\" width=\"200\" align=\"center\">\n",
    "\n",
    "But unfortunately this is not a physical kind of teleportation, instead we are teleporting a *State* - which is more like teleporting information. So it's more along the lines of:\n",
    "\n",
    "<img src=\"https://hips.hearstapps.com/pop.h-cdn.co/assets/17/11/768x384/landscape-1489615804-teleportation-1.gif?resize=640:*\" width=\"200\" align=\"center\">\n",
    "\n",
    "*(That's schrodingers cat and it's representing a quantum state)* **If you're interested in where I got that gif, you should check out <a href=\"https://www.youtube.com/watch?v=DxQK1WDYI_k\">this video on teleportation by minute physics.</a>**\n",
    "\n",
    "\n",
    "\n",
    "### This challenge will have two sections: A <b>Learning Section</b> and a <b>Coding Section</b>\n",
    "\n",
    "Using our good friends Alice, Bob, and Charlie we will transfer the quantum state $|\\Psi \\rangle$ from Alice to Bob by only sending two classical bits of information.\n",
    "\n",
    "There are a few new `Qiskit` things we will need to learn for this challenge:\n",
    "\n",
    "1. Creating circuits with registers\n",
    "2. Classical-quantum conditional gates"
   ]
  },
  {
   "cell_type": "markdown",
   "id": "383c898b-630a-45b6-b391-56a4aefa99a3",
   "metadata": {
    "tags": []
   },
   "source": [
    "---\n",
    "<h2 style=\"text-align: center; color: darkblue\"> Learning Section</h2>\n",
    "\n",
    "---\n",
    "\n",
    "## 1. Using Registers\n",
    "\n",
    "In `Qiskit` a register is collection of either qubits or classical bits, these registers can then be used to create a normal `QuantumCircuit`. This is useful if we want to give specific labels or use more advanced gates like classical-quantum conditional gates. \n",
    "\n",
    "Here's an example:\n",
    "`QuantumRegister(3, name='quantum_register')` will create a quantum register of 3 qubits each with the label name `\"quantum_register\"`.\n",
    "\n",
    "<div class=\"alert alert-info\"><b><i>N.B.</i></b> There is some strange behavior with what you can put in the labels, they have to be <b>lower case</b> and only quantum registers can have <b>spaces</b>. Why is this the case? 🤷🏼‍♂️ That's qiskit for you! </div>\n",
    "\n",
    "#### Let's try out an example:"
   ]
  },
  {
   "cell_type": "code",
   "execution_count": 46,
   "id": "0578e3c5-bce7-45f7-8cd3-667ce949697a",
   "metadata": {},
   "outputs": [
    {
     "data": {
      "text/html": [
       "<pre style=\"word-wrap: normal;white-space: pre;background: #fff0;line-height: 1.1;font-family: &quot;Courier New&quot;,Courier,monospace\">                    \n",
       "quantum_register_0: \n",
       "                    \n",
       "quantum_register_1: \n",
       "                    \n",
       "quantum_register_2: \n",
       "                    </pre>"
      ],
      "text/plain": [
       "                    \n",
       "quantum_register_0: \n",
       "                    \n",
       "quantum_register_1: \n",
       "                    \n",
       "quantum_register_2: \n",
       "                    "
      ]
     },
     "execution_count": 46,
     "metadata": {},
     "output_type": "execute_result"
    }
   ],
   "source": [
    "qr = QuantumRegister(3,name='quantum_register')\n",
    "qc = QuantumCircuit(qr)\n",
    "qc.draw()"
   ]
  },
  {
   "cell_type": "markdown",
   "id": "9ce72852-9497-4bbc-b804-5c16ad5ac81b",
   "metadata": {},
   "source": [
    "#### We can do the same thing with classical registers too!"
   ]
  },
  {
   "cell_type": "code",
   "execution_count": 47,
   "id": "77d715c6-ddbe-419e-8d6a-c2a928fdcb1f",
   "metadata": {},
   "outputs": [
    {
     "data": {
      "text/html": [
       "<pre style=\"word-wrap: normal;white-space: pre;background: #fff0;line-height: 1.1;font-family: &quot;Courier New&quot;,Courier,monospace\">                      \n",
       "  quantum_register_0: \n",
       "                      \n",
       "  quantum_register_1: \n",
       "                      \n",
       "  quantum_register_2: \n",
       "                      \n",
       "classical_register: 3/\n",
       "                      </pre>"
      ],
      "text/plain": [
       "                      \n",
       "  quantum_register_0: \n",
       "                      \n",
       "  quantum_register_1: \n",
       "                      \n",
       "  quantum_register_2: \n",
       "                      \n",
       "classical_register: 3/\n",
       "                      "
      ]
     },
     "execution_count": 47,
     "metadata": {},
     "output_type": "execute_result"
    }
   ],
   "source": [
    "qr = QuantumRegister(3,name='quantum_register')\n",
    "cr = ClassicalRegister(3,name='classical_register')\n",
    "qc = QuantumCircuit(qr, cr)\n",
    "qc.draw()"
   ]
  },
  {
   "cell_type": "markdown",
   "id": "f641b7a9-f43b-49e8-a4c9-519cf855c234",
   "metadata": {},
   "source": [
    "<div class=\"alert alert-info\"><b><i>N.B.</i></b> Notice that when a register is made with multiple bits at once, <b>Qiskit</b> enumerates all qubits on separate lines and squashes all classical bits into a single line. This is perfectly normal behavior!</div>"
   ]
  },
  {
   "cell_type": "markdown",
   "id": "8347a52f-0bd9-4bbc-a674-4d02459ec85b",
   "metadata": {},
   "source": [
    "#### Sometimes we need each register to have a unique name\n",
    "To do this we need to make each register separately:"
   ]
  },
  {
   "cell_type": "code",
   "execution_count": 48,
   "id": "d5016c29-e4f9-44f7-b96a-373a59c13d21",
   "metadata": {},
   "outputs": [
    {
     "data": {
      "text/html": [
       "<pre style=\"word-wrap: normal;white-space: pre;background: #fff0;line-height: 1.1;font-family: &quot;Courier New&quot;,Courier,monospace\">               \n",
       "    quantum_a: \n",
       "               \n",
       "    quanutm_b: \n",
       "               \n",
       "classical_a: 1/\n",
       "               \n",
       "classical_b: 1/\n",
       "               </pre>"
      ],
      "text/plain": [
       "               \n",
       "    quantum_a: \n",
       "               \n",
       "    quanutm_b: \n",
       "               \n",
       "classical_a: 1/\n",
       "               \n",
       "classical_b: 1/\n",
       "               "
      ]
     },
     "execution_count": 48,
     "metadata": {},
     "output_type": "execute_result"
    }
   ],
   "source": [
    "q_a = QuantumRegister(1, name='quantum_a')\n",
    "q_b = QuantumRegister(1, name='quanutm_b')\n",
    "\n",
    "c_a = ClassicalRegister(1, name=\"classical_a\")\n",
    "c_b = ClassicalRegister(1, name=\"classical_b\")\n",
    "qc = QuantumCircuit(q_a, q_b, c_a, c_b)\n",
    "qc.draw()"
   ]
  },
  {
   "cell_type": "markdown",
   "id": "d169be0f-e1b8-42b3-8f10-a3f380439903",
   "metadata": {
    "tags": []
   },
   "source": [
    "## 2. Using Classical-Quantum Conditional Gates\n",
    "\n",
    "In order to complete the teleportation, Bob needs to apply different gates to his qubit depending on which classical bits Alice sends.\n",
    "\n",
    "We can build this into our circuit with a classical-quantum conditional gate. As the name suggests, these quantum gates are controlled by the classical registers. Think of them as operating with the logic:\n",
    "\n",
    "```\n",
    "if classical_0 == 1:\n",
    "    apply X gate\n",
    "```\n",
    "\n",
    "In `Qiskit` classical-quantum conditional gates use the syntax: \n",
    "`QuantumCircuit.A(B).c_if(C, D)`\n",
    "\n",
    "Where:\n",
    "\n",
    "- A = gate type\n",
    "- B = target qubit\n",
    "- C = classical control register\n",
    "- D = desired activation value\n",
    "\n",
    "That's a little confusing so lets look at an example:"
   ]
  },
  {
   "cell_type": "code",
   "execution_count": 49,
   "id": "797b6c3d-0e73-4159-b790-84e74164488e",
   "metadata": {},
   "outputs": [
    {
     "data": {
      "text/html": [
       "<pre style=\"word-wrap: normal;white-space: pre;background: #fff0;line-height: 1.1;font-family: &quot;Courier New&quot;,Courier,monospace\">       ┌───┐ \n",
       "  q0: ─┤ X ├─\n",
       "       └─╥─┘ \n",
       "  q1: ───╫───\n",
       "      ┌──╨──┐\n",
       "c0: 1/╡ 0x1 ╞\n",
       "      └─────┘\n",
       "c1: 1/═══════\n",
       "             </pre>"
      ],
      "text/plain": [
       "       ┌───┐ \n",
       "  q0: ─┤ X ├─\n",
       "       └─╥─┘ \n",
       "  q1: ───╫───\n",
       "      ┌──╨──┐\n",
       "c0: 1/╡ 0x1 ╞\n",
       "      └─────┘\n",
       "c1: 1/═══════\n",
       "             "
      ]
     },
     "execution_count": 49,
     "metadata": {},
     "output_type": "execute_result"
    }
   ],
   "source": [
    "# First we make our registers\n",
    "q_0 = QuantumRegister(1, name='q0')\n",
    "q_1 = QuantumRegister(1, name='q1')\n",
    "c_0 = ClassicalRegister(1, name='c0')\n",
    "c_1 = ClassicalRegister(1, name='c1')\n",
    "# Next we make a quantum circuit\n",
    "qc = QuantumCircuit(q_0, q_1, c_0, c_1)\n",
    "# Now we apply the classical-quantum conditional gate\n",
    "qc.x(0).c_if(c_0, 1)\n",
    "qc.draw()"
   ]
  },
  {
   "cell_type": "markdown",
   "id": "f24de4bc-c5be-42a2-9193-78d6f0ab82cf",
   "metadata": {},
   "source": [
    "In this circuit, we created 2 quantum registers and 2 classical registers. We then created added an X gate to qubit `0` and made it conditional on the classical register `c_0` being in the `1` state.\n",
    "\n",
    "<div class=\"alert alert-info\"><b><i>N.B.</i></b> Notice that the variable names and the labels are different. This is to make it clear that we are passing the <b>variable name</b> into our conditional gate and not the <b>label name</b></div>"
   ]
  },
  {
   "cell_type": "markdown",
   "id": "9eac930d-b3f9-48c0-8bb7-2082c9a6551b",
   "metadata": {},
   "source": [
    "---\n",
    "<h2 style=\"text-align: center; color: darkblue\"> The Protocol</h2>\n",
    "\n",
    "---\n",
    "In this experiment we are going to imagine we have three people, Alice, Bob, and Charlie. Alice has a state $|\\Psi \\rangle$ that she wants to send to Bob. In order to help send her state, Charlie provides Alice and Bob each with an entangled pair of qubits. In the experiment, Alice initially has qubit $Q_0$ (this qubit is in the state $|\\Psi\\rangle$ that she wants to send Bob), and Charlie distributes $Q_1$ and $Q_2$ to Alice and Bob respectively. \n",
    "\n",
    "Using teleportation we can show the state $|\\Psi \\rangle$ (which is stored on Alice's Qubit $Q_0$) is teleported from qubit $Q_0$ to qubit $Q_2$ on the same circuit. Unlike a swap operation, $Q_2$ and $Q_0$ never have a quantum gate directly connecting them - the only information transferred are two classical bits through the $C_0$ and $C_1$ registers.\n",
    "\n",
    "Confused? Let me clarify:\n",
    "\n",
    "Alice starts with $Q_0$,\n",
    "\n",
    "Charlie creates and entangled pair: $Q_1$ and $Q_2$\n",
    "\n",
    "Charlie then distributes $Q_1$ to Alice and $Q_2$ to Bob\n",
    "\n",
    "At this point our teleportation circuit is prepared!\n",
    "\n",
    "In order for Alice to send the state $|\\Psi \\rangle$ of $Q_0$, she only needs to send two classical bits of data to Bob and Bob will be able to completely recreate the state $|\\Psi \\rangle$ on his $Q_2$!\n",
    "\n",
    "Amazing! But there's two more key parts we need to figure out: Alice needs to know what two classical bits to send to Bob, and Bob needs to know how to interpret those classical bits as instructions to recreate $|\\Psi \\rangle$.\n",
    "\n",
    "# Alice, Bob, and Charlie steps:\n",
    "\n",
    "Charlie needs to make an entangled pair - we are going to create the $|\\beta_{00}\\rangle$ state between the $q_1$ and $q_2$ qubits, where:\n",
    "\n",
    "$$\n",
    "| \\beta_{00} \\rangle = \\frac{1}{\\sqrt{2}}(|00\\rangle + |11\\rangle\n",
    "$$\n",
    "\n",
    "Alice is now going to apply a CNOT gate with $Q_0$ as control and $Q_1$ as target as well as a hadamard to $Q_0$.\n",
    "\n",
    "Then Alice will measure the $Q_0$ and $Q_1$ qubits and send the classical values to Bob via the classical register.\n",
    "\n",
    "Now with only two bits of classical information, Bob can completely recreate the state of $| \\Psi \\rangle$ on his end!\n",
    "\n",
    "To do this he can follow the following format:\n",
    "\n",
    "**If the first classical bit is 1, Bob applies a Z gate, if the second classical bit is 1 he applies an X gate.**\n",
    "\n",
    "00 = Nothing\n",
    "\n",
    "01 = $X$ gate\n",
    "\n",
    "10 = $Z$ gate\n",
    "\n",
    "11 = $Z$ and $X$ gate"
   ]
  },
  {
   "cell_type": "markdown",
   "id": "c94edc55-6897-4789-9906-dfb6e99fbe86",
   "metadata": {
    "tags": []
   },
   "source": [
    "---\n",
    "<h2 style=\"text-align: center; color: darkblue\"> Coding Section</h2>\n",
    "\n",
    "---\n",
    "\n",
    "## Here are all the necessary functions:\n",
    "1. A function that creates the registers and places them into a circuit\n",
    "2. A function that initializes a given State that Alice wants to send (we've completed this for you)\n",
    "3. A function that creates a bell pair\n",
    "4. A function that prepares Alices gate\n",
    "5. A function that measures Alices qubits and places their output on the classical register (this is to mimic sending them along a classical line)\n",
    "6. A function that applies gates on Bobs qubit depending on the output of the classical register.\n",
    "\n",
    "---\n",
    "#### How to read the skeleton code:\n",
    "This can be tricky as this whole setup is rather un-intuitive so without giving too much away, we will provide a framework with compatible arguments and returns variables. Just fill in where is says **TODO**!\n",
    "\n",
    "As you go through, try to keep all arguments and returns the same so as to avoid bugs!\n",
    "\n",
    "---"
   ]
  },
  {
   "cell_type": "markdown",
   "id": "a19bc8bd-9a36-4c4c-a13b-17a4cd9f5078",
   "metadata": {},
   "source": [
    "## Crash course on functions"
   ]
  },
  {
   "cell_type": "markdown",
   "id": "c8058e9c-f696-4909-bbf1-a9b1edad73fe",
   "metadata": {},
   "source": [
    "In the course we learned how to use pre-created functions. To implement teleportation we need to level up, and learn how to create our own functions! Learning how to create functions makes your code easier to read and edit, as you will see. \n",
    "We use the `def` keyword to create functions. The syntax for creating your own functions is as follows:"
   ]
  },
  {
   "cell_type": "code",
   "execution_count": 50,
   "id": "544ba03f-e917-4067-a106-16b38d873539",
   "metadata": {},
   "outputs": [],
   "source": [
    "def my_function_name(input1,input2):\n",
    "    #Function code goes here\n",
    "    return #variable names go here\n",
    "## return is an optional statement we use to allow our functions to produce outputs."
   ]
  },
  {
   "cell_type": "markdown",
   "id": "3189b37a-84e2-467c-bbe2-674fde9e44d4",
   "metadata": {},
   "source": [
    "As an example, suppose you wanted to create a function to multiply two numbers. You want the function to return the result of multiplying the two numbers. You would first create this function as follows:"
   ]
  },
  {
   "cell_type": "code",
   "execution_count": 51,
   "id": "36aa23ea-e891-4ccc-b834-badd701ba361",
   "metadata": {},
   "outputs": [],
   "source": [
    "def multiply_two_numbers(num1, num2): # Using the def keyword to create the function, and naming it multiply_two_numbers. It has two inputs - the two numbers num1 and num2\n",
    "    ans = num1*num2 # Calculating the answer when the two numbers are multiplied\n",
    "    return ans # Returning the answer"
   ]
  },
  {
   "cell_type": "markdown",
   "id": "4165d108-4d16-464b-ac8f-86ed5459feeb",
   "metadata": {},
   "source": [
    "Next, we can use or call this function as shown below:"
   ]
  },
  {
   "cell_type": "code",
   "execution_count": 52,
   "id": "2d30ade1-6f5a-4d37-a92e-43b5ef9aacac",
   "metadata": {},
   "outputs": [
    {
     "name": "stdout",
     "output_type": "stream",
     "text": [
      "950\n"
     ]
    }
   ],
   "source": [
    "num1 = 25\n",
    "num2 = 38\n",
    "result = multiply_two_numbers(num1,num2)\n",
    "print(result)"
   ]
  },
  {
   "cell_type": "markdown",
   "id": "e5252676-ca3d-40e2-980d-85542b2aa55f",
   "metadata": {},
   "source": [
    "As you can see, we get the result of multiplying the two numbers! \n",
    "\n",
    "Now, the function we just created above is a VERY roundabout way of doing the very simple task of multiplying two numbers. However, as we will see in this notebook, we can create functions to do actually useful tasks as we implement quantum teleportation."
   ]
  },
  {
   "cell_type": "markdown",
   "id": "cdd0d738-11e5-41dd-97ab-7f94cb77a2dc",
   "metadata": {},
   "source": [
    "Now, let's implement all the functions required for Teleportation:"
   ]
  },
  {
   "cell_type": "markdown",
   "id": "8d9f7729-0b9a-49a8-86d0-3f6976255cfc",
   "metadata": {},
   "source": [
    "## 1. Create the registers and circuit\n",
    "Using the walkthrough in the learning section, create a `QuantumCircuit` called `qc` with the following registers:\n",
    "1. A QuantumRegister with variable name `alice_0` with a single qubit and the `name=` keyword argument set to `\"alice_0\"`.\n",
    "2. A QuantumRegister with variable name `alice_1` with a single qubit and the `name=` keyword argument set to `\"alice_1\"`.\n",
    "3. A QuantumRegister with variable name `bob` with a single qubit and the `name=` keyword argument set to `\"bob\"`.\n",
    "4. A ClassicalRegister with variable name `c_0` with a single bit and the `name=` keyword argument set to `\"c_0\"`.\n",
    "4. A ClassicalRegister with variable name `c_1` with a single bit and the `name=` keyword argument set to `\"c_1\"`.\n",
    "\n",
    "<div class=\"alert alert-danger\"><b><i>🚨</i></b> The variable names and <code>name=</code> keyword argument of the classical registers must be <code>c_0</code> and <code>c_1</code> and also passed into the return tuple!</div>"
   ]
  },
  {
   "cell_type": "code",
   "execution_count": 53,
   "id": "1a3683b7-e213-4d65-8280-7b0a1487fd07",
   "metadata": {},
   "outputs": [],
   "source": [
    "def create_registers_and_circuit():\n",
    "    ''' TODO '''\n",
    "    alice_0 = QuantumRegister(1, name=\"alice_0\")\n",
    "    alice_1 = QuantumRegister(1, name=\"alice_1\")\n",
    "    bob = QuantumRegister(1, name=\"bob\")\n",
    "    c_0 = ClassicalRegister(1, name=\"c_0\")\n",
    "    c_1 = ClassicalRegister(1, name=\"c_1\")\n",
    "    qc = QuantumCircuit(alice_0, alice_1, bob, c_0, c_1)\n",
    "    return (qc, c_0, c_1)"
   ]
  },
  {
   "cell_type": "markdown",
   "id": "9e65ac66-1d38-445d-99ae-ee3327f7d43b",
   "metadata": {},
   "source": [
    "## 2. Alice Initializes the Psi state\n",
    "This is unusual, so we've written it for you. We are essentially making a function that hard-codes a quanutum state (this is not something you would ever normally want to do) but because we are using a simulator we can bend the rules a little bit! "
   ]
  },
  {
   "cell_type": "code",
   "execution_count": 54,
   "id": "03547730-90d7-45da-b8b0-c5470ca499aa",
   "metadata": {},
   "outputs": [],
   "source": [
    "def alice_initialise_psi(psi):\n",
    "    # First we make our state Psi into a initialisation gate\n",
    "    init_gate = Initialize(psi)\n",
    "    init_gate.label = \"Alice's State\"\n",
    "\n",
    "    # Alice's Makes a State to send to Bob\n",
    "    qc.append(init_gate, [0])"
   ]
  },
  {
   "cell_type": "markdown",
   "id": "6cf1f599-d522-4ee4-af58-7f53703bec83",
   "metadata": {},
   "source": [
    "## 3. Create a Bell pair\n",
    "Hopefully you're familiar with this one! Create a $|\\beta_{00}\\rangle$ bell state between `qubit_one` and `qubit_two`. \n",
    "\n",
    "**Do not return anything! The qc object that is passed in will be altered by the function.**\n",
    "\n",
    "(hint: the Hadamard has to operate on `qubit_one` and the `cx` controlling on `qubit_one` and targeting `qubit_two`)"
   ]
  },
  {
   "cell_type": "code",
   "execution_count": 55,
   "id": "53eabb6e-369b-4608-a1af-1707848c2311",
   "metadata": {},
   "outputs": [],
   "source": [
    "def create_bell_pair(qc, qubit_one, qubit_two):\n",
    "    qc.h(qubit_one)\n",
    "    qc.cx(qubit_one, qubit_two)"
   ]
  },
  {
   "cell_type": "markdown",
   "id": "e8f43beb-6086-47b6-8555-983774dfe877",
   "metadata": {},
   "source": [
    "## 4. Prepare Alices Qubits\n",
    "\n",
    "\n",
    "Apply a **CNOT** gate to the `QuantumCircuit` with `qubit_zero` as the control and `qubit_one` as the target.\n",
    "\n",
    "Next, apply an H gate to Alice's `qubit_zero`.\n",
    "\n",
    "**Do not return anything! The qc object that is passed in will be altered by the function.**"
   ]
  },
  {
   "cell_type": "code",
   "execution_count": 56,
   "id": "3173b9df-c033-4fd6-9bae-891f4e0365d4",
   "metadata": {},
   "outputs": [],
   "source": [
    "def alice_gates(qc, qubit_zero, qubit_one):\n",
    "    ''' TODO '''\n",
    "    qc.cx(qubit_zero, qubit_one)\n",
    "    qc.h(qubit_zero)"
   ]
  },
  {
   "cell_type": "markdown",
   "id": "b917e33c-f40a-4951-8105-6ec86d6ad0cc",
   "metadata": {},
   "source": [
    "## 5. Measure Alices qubits and Send the Results on the Classical Register\n",
    "\n",
    "Now Alice needs to measure her qubits and send the results over to Bob via the Classical channel\n",
    "\n",
    "1. Measure qubit 0 to the classical bit 0 \n",
    "2. Measure qubit 1 to the classical bit 1\n",
    "\n",
    "Reminder of the measure function syntax: `QuantumCircuit.measure(quantum bit, classical bit)`\n",
    "\n",
    "**Do not return anything! The qc object that is passed in will be altered by the function.**"
   ]
  },
  {
   "cell_type": "code",
   "execution_count": 57,
   "id": "9874dca4-c3d4-4fbf-bf4d-e6e6e70cdb17",
   "metadata": {},
   "outputs": [],
   "source": [
    "def measure_and_send(qc, qubit_zero, qubit_one, classical_zero, classical_one):\n",
    "    ''' TODO '''\n",
    "    qc.measure(qubit_zero, classical_zero)\n",
    "    qc.measure(qubit_one, classical_one)"
   ]
  },
  {
   "cell_type": "markdown",
   "id": "445aff81-2b4f-49fa-a96d-54a1b3082d81",
   "metadata": {},
   "source": [
    "## 6. Apply gates to Bob's Qubits\n",
    "\n",
    "This is when we have to use the classical-conditional quantum gates described in the learning section above.\n",
    "\n",
    "1. Apply a classical-conditional gate with:\n",
    "- gate type = Z\n",
    "- target qubit = qubit_two\n",
    "- classical control register = crz\n",
    "- desired activation value = 1\n",
    "\n",
    "2. Apply a classical-conditional gate with:\n",
    "- gate type = X\n",
    "- target qubit = qubit_two\n",
    "- classical control register = crx\n",
    "- desired activation value = 1\n",
    "\n",
    "**Do not return anything! The qc object that is passed in will be altered by the function.**"
   ]
  },
  {
   "cell_type": "code",
   "execution_count": 64,
   "id": "4b16618a-bbd9-46bd-bcc2-e307c95706ed",
   "metadata": {},
   "outputs": [],
   "source": [
    "def bob_gates(qc, qubit_two, crz, crx):\n",
    "    qc.z(qubit_two).c_if(crz, 1)\n",
    "    qc.x(qubit_two).c_if(crx, 1)"
   ]
  },
  {
   "cell_type": "markdown",
   "id": "54b4c196-b2a5-48f3-88cd-a885eb8de424",
   "metadata": {},
   "source": [
    "# Test your Teleportation Sequence!\n",
    "Now that you have completed each step of the protocol as a function, we can test it out by trying to have Alice send the $| \\Psi \\rangle$ state that we've created for you:"
   ]
  },
  {
   "cell_type": "code",
   "execution_count": 65,
   "id": "9b946a84-664e-4fbc-b991-b3982c79b6e7",
   "metadata": {},
   "outputs": [],
   "source": [
    "# psi = np.array([0.5533920757991503+0.3043529040180291j, 0.6147796854942953+0.4724113234904887j])\n",
    "psi = np.array([np.sqrt(0.3), np.sqrt(0.7)])"
   ]
  },
  {
   "cell_type": "markdown",
   "id": "e9aac821-f092-40e7-a1f2-a986399475cf",
   "metadata": {},
   "source": [
    "Let's visualize Alice's statevector on a Bloch sphere!"
   ]
  },
  {
   "cell_type": "code",
   "execution_count": 66,
   "id": "e025dc2e-9747-4b65-a46b-e06bd49ba4f8",
   "metadata": {},
   "outputs": [
    {
     "data": {
      "image/png": "[encoded data removed]",
      "text/plain": [
       "<Figure size 288x288 with 1 Axes>"
      ]
     },
     "metadata": {},
     "output_type": "display_data"
    }
   ],
   "source": [
    "psi_s = Statevector(psi)\n",
    "display(psi_s.draw(output = 'bloch', title=\"Psi State\"))"
   ]
  },
  {
   "cell_type": "markdown",
   "id": "6b3132ff-0020-4cb4-8e94-2352ae3dabaf",
   "metadata": {
    "tags": []
   },
   "source": [
    "We are going to run this on the `statevector_simulator` because it allows us to take `snapshots` which are like a view into the statevector at any moment along the circuit.\n",
    "\n",
    "We wrote the following for you so **leave it as it is** and run each cell to see if you have **solved the challenge!**\n",
    "\n",
    "## 1. Create the Circuit\n",
    "Each of the registers should be named including two separate classical registers.\n",
    "\n",
    "The `snapshots` should look like a vertical gray bar. "
   ]
  },
  {
   "cell_type": "code",
   "execution_count": 67,
   "id": "00763de9-b412-490f-92fb-7cf6b4b1686b",
   "metadata": {},
   "outputs": [
    {
     "data": {
      "text/html": [
       "<pre style=\"word-wrap: normal;white-space: pre;background: #fff0;line-height: 1.1;font-family: &quot;Courier New&quot;,Courier,monospace\">         ┌────────────────────────────────┐ ░            ░      ┌───┐ ░ ┌─┐   »\n",
       "alice_0: ┤ Alice's State(0.54772,0.83666) ├─░────────────░───■──┤ H ├─░─┤M├───»\n",
       "         └────────────────────────────────┘ ░ ┌───┐      ░ ┌─┴─┐└───┘ ░ └╥┘┌─┐»\n",
       "alice_1: ───────────────────────────────────░─┤ H ├──■───░─┤ X ├──────░──╫─┤M├»\n",
       "                                            ░ └───┘┌─┴─┐ ░ └───┘      ░  ║ └╥┘»\n",
       "    bob: ───────────────────────────────────░──────┤ X ├─░────────────░──╫──╫─»\n",
       "                                            ░      └───┘ ░            ░  ║  ║ »\n",
       "  c_0: 1/════════════════════════════════════════════════════════════════╩══╬═»\n",
       "                                                                         0  ║ »\n",
       "  c_1: 1/═══════════════════════════════════════════════════════════════════╩═»\n",
       "                                                                            0 »\n",
       "«          ░                ░ \n",
       "«alice_0: ─░────────────────░─\n",
       "«          ░                ░ \n",
       "«alice_1: ─░────────────────░─\n",
       "«          ░  ┌───┐  ┌───┐  ░ \n",
       "«    bob: ─░──┤ Z ├──┤ X ├──░─\n",
       "«          ░  └─╥─┘  └─╥─┘  ░ \n",
       "«            ┌──╨──┐   ║      \n",
       "«  c_0: 1/═══╡ 0x1 ╞═══╬══════\n",
       "«            └─────┘┌──╨──┐   \n",
       "«  c_1: 1/══════════╡ 0x1 ╞═══\n",
       "«                   └─────┘   </pre>"
      ],
      "text/plain": [
       "         ┌────────────────────────────────┐ ░            ░      ┌───┐ ░ ┌─┐   »\n",
       "alice_0: ┤ Alice's State(0.54772,0.83666) ├─░────────────░───■──┤ H ├─░─┤M├───»\n",
       "         └────────────────────────────────┘ ░ ┌───┐      ░ ┌─┴─┐└───┘ ░ └╥┘┌─┐»\n",
       "alice_1: ───────────────────────────────────░─┤ H ├──■───░─┤ X ├──────░──╫─┤M├»\n",
       "                                            ░ └───┘┌─┴─┐ ░ └───┘      ░  ║ └╥┘»\n",
       "    bob: ───────────────────────────────────░──────┤ X ├─░────────────░──╫──╫─»\n",
       "                                            ░      └───┘ ░            ░  ║  ║ »\n",
       "  c_0: 1/════════════════════════════════════════════════════════════════╩══╬═»\n",
       "                                                                         0  ║ »\n",
       "  c_1: 1/═══════════════════════════════════════════════════════════════════╩═»\n",
       "                                                                            0 »\n",
       "«          ░                ░ \n",
       "«alice_0: ─░────────────────░─\n",
       "«          ░                ░ \n",
       "«alice_1: ─░────────────────░─\n",
       "«          ░  ┌───┐  ┌───┐  ░ \n",
       "«    bob: ─░──┤ Z ├──┤ X ├──░─\n",
       "«          ░  └─╥─┘  └─╥─┘  ░ \n",
       "«            ┌──╨──┐   ║      \n",
       "«  c_0: 1/═══╡ 0x1 ╞═══╬══════\n",
       "«            └─────┘┌──╨──┐   \n",
       "«  c_1: 1/══════════╡ 0x1 ╞═══\n",
       "«                   └─────┘   "
      ]
     },
     "execution_count": 67,
     "metadata": {},
     "output_type": "execute_result"
    }
   ],
   "source": [
    "# Make sure you return the QuantumCircuit and both classical registers as a tuple!\n",
    "# e.g. return (qc, c_0, c_1)\n",
    "qc, c_0, c_1 = create_registers_and_circuit()\n",
    "\n",
    "# Alice intializes a quantum state\n",
    "alice_initialise_psi(psi)\n",
    "\n",
    "# Use a snapshot to record the initial statevector (this is for checking after)\n",
    "qc.snapshot('1')\n",
    "\n",
    "# Charlie creates the Bell pair\n",
    "create_bell_pair(qc, 1, 2)\n",
    "qc.barrier()\n",
    "\n",
    "# Alice does gate prep\n",
    "alice_gates(qc, 0, 1)\n",
    "qc.barrier()\n",
    "\n",
    "# Alice measures her state and sends to Bob\n",
    "measure_and_send(qc, 0, 1, 0, 1)\n",
    "qc.barrier()\n",
    "\n",
    "# Bob decodes the classical bits and re-creates Psi\n",
    "bob_gates(qc, 2, c_0, c_1)\n",
    "\n",
    "# Use snapshot to record the final statevector  (this is for checking after)\n",
    "qc.snapshot('2')  \n",
    "\n",
    "# Draw it!\n",
    "qc.draw()"
   ]
  },
  {
   "cell_type": "markdown",
   "id": "037132df-648f-402d-ac9b-3ae2e0c90293",
   "metadata": {},
   "source": [
    "## 2. Run it on the Statevector Simulator\n",
    "Like normal, we will run our circuit on a simulator and pull the results out of the return object.\n",
    "\n",
    "<div class=\"alert alert-info\"><b><i>N.B.</i></b>\n",
    "    Notice that we are not calling <code>get counts</code> here, instead we are going to read the snapshots and directly check if the state has been teleported across the circuit!\n",
    "</div>"
   ]
  },
  {
   "cell_type": "code",
   "execution_count": 68,
   "id": "5c856502-915e-46da-b41e-221ba5725c64",
   "metadata": {},
   "outputs": [],
   "source": [
    "# Execute the circuit on the simulated backend\n",
    "backend = Aer.get_backend('statevector_simulator')\n",
    "result = execute(qc, backend).result()"
   ]
  },
  {
   "cell_type": "markdown",
   "id": "f2983988-2d9b-4cfa-9464-8601813c0dba",
   "metadata": {},
   "source": [
    "## 3. Check if it's Worked!\n",
    "\n",
    "We made a function called `check_same_state`, by passing the simulation `result` object, it can pull out the statevectors from the snapshots!\n",
    "\n",
    "It will tell you Alice's and Bob's state and check if they are close enough to be the same."
   ]
  },
  {
   "cell_type": "code",
   "execution_count": 69,
   "id": "6875a0a1-7730-4aea-a403-07b268d2c85c",
   "metadata": {},
   "outputs": [
    {
     "name": "stdout",
     "output_type": "stream",
     "text": [
      "Alice's state: 0.5477+0.0000j 0.8367+0.0000j\n"
     ]
    },
    {
     "data": {
      "image/png": "[encoded data removed]",
      "text/plain": [
       "<Figure size 288x288 with 1 Axes>"
      ]
     },
     "metadata": {},
     "output_type": "display_data"
    },
    {
     "name": "stdout",
     "output_type": "stream",
     "text": [
      "Bob's state: 0.5477+0.0000j 0.8367-0.0000j\n"
     ]
    },
    {
     "data": {
      "image/png": "[encoded data removed]",
      "text/plain": [
       "<Figure size 288x288 with 1 Axes>"
      ]
     },
     "metadata": {},
     "output_type": "display_data"
    },
    {
     "name": "stdout",
     "output_type": "stream",
     "text": [
      "\u001b[92mState Successfully Teleported! Good Job!\u001b[0m\n"
     ]
    }
   ],
   "source": [
    "def check_same_state(result):\n",
    "    # A little extra style\n",
    "    def green(string):\n",
    "        return ('\\033[92m' + string + '\\033[0m')\n",
    "    def red(string):\n",
    "        return ('\\033[91m' + string + '\\033[0m')\n",
    "    try:\n",
    "        # Put our snapshots into a list\n",
    "        snapshots = result.data()['snapshots']['statevector']\n",
    "\n",
    "        # Get Alice's state:\n",
    "        alice_state = snapshots['1']\n",
    "\n",
    "        # Get Bob's final state:\n",
    "        bob_state = snapshots['2']\n",
    "\n",
    "        a = alice_state[0][:2]\n",
    "        b = [c for c in bob_state[0] if c != 0]\n",
    "        # Account for a single state in bob's statevector\n",
    "        if len(b) < 2: b.append(bob_state[0][1])\n",
    "        \n",
    "        # print(\"Psi state: \", psi[0], psi[1])\n",
    "        print(f\"Alice's state: {a[0]:.4f} {a[1]:.4f}\")\n",
    "        plt.close(\"all\")\n",
    "        display(Statevector(a).draw(output = 'bloch', title=\"Alice's State\"))\n",
    "        print(f\"Bob's state: {b[0]:.4f} {b[1]:.4f}\")\n",
    "        plt.close(\"all\")\n",
    "        display(Statevector(b).draw(output = 'bloch', title=\"Bob's State\"))\n",
    "        # For simplicity I am rounding and summing to check for equality\n",
    "        \n",
    "        if np.round(a[0]+a[1], 5) == np.round(b[0]+ b[1], 5):\n",
    "            print(green(\"State Successfully Teleported! Good Job!\"))\n",
    "        else:\n",
    "            print(red(\"Bob did not get the same state as Alice! Check your code and try again!\"))\n",
    "    except:\n",
    "        print(red(\"Error: Something went wrong while running the checker function! Check your code and try again!\"))\n",
    "\n",
    "# Check if it's the same state\n",
    "check_same_state(result)"
   ]
  },
  {
   "cell_type": "markdown",
   "id": "024a85e4-8806-4e59-b110-91da9205d234",
   "metadata": {
    "tags": []
   },
   "source": [
    "---\n",
    "<h2 style=\"text-align: center; color: darkblue\"> Well Done! </h2>\n",
    "\n",
    "---\n",
    "\n",
    "<img src=\"https://thumbs.gfycat.com/LikableUnfortunateCaecilian-size_restricted.gif\" width=\"500\" align=\"center\">\n",
    "\n",
    "\n",
    "# That was hard! Well done for getting to the end! \n",
    "\n",
    "If something went wrong, don't panic! There is a whole lot going on in this challenge notebook, try again or come to office hours - We can always solve it together!\n",
    "\n",
    "---\n",
    "### After you successfully implement teleportation, try changing Alice's state $|\\Psi\\rangle$, and see if it is successfully teleported every time! When you change this state, make sure that the state you are using is normalized.\n"
   ]
  },
  {
   "cell_type": "markdown",
   "id": "63a557ce-49a7-41b2-8d67-5d3bb84a4547",
   "metadata": {},
   "source": [
    "## Do you want to learn more about teleportation? \n",
    "\n",
    "Why does Alice use the exact gates she does? Why does Bob use either an X gate, or a Z gate, or both?\n",
    "\n",
    "Check out the <a href=\"https://qiskit.org/textbook/ch-algorithms/teleportation.html\"> Qiskit textook page on teleportation to learn the math behind the protocol! "
   ]
  },
  {
   "cell_type": "markdown",
   "id": "88f808c6-3155-467f-b858-2047e4a2cc14",
   "metadata": {
    "tags": []
   },
   "source": [
    "### © 2022 The Coding School\n",
    "\n",
    "**All rights reserved**\n",
    "\n",
    "*Use of this activity is for personal use only. Copying, reproducing, distributing, posting or sharing this activity in any manner with any third party are prohibited under the terms of this registration. All rights not specifically licensed under the registration are reserved.*"
   ]
  }
 ],
 "metadata": {
  "kernelspec": {
   "display_name": "Python 3 (ipykernel)",
   "language": "python",
   "name": "python3"
  },
  "language_info": {
   "codemirror_mode": {
    "name": "ipython",
    "version": 3
   },
   "file_extension": ".py",
   "mimetype": "text/x-python",
   "name": "python",
   "nbconvert_exporter": "python",
   "pygments_lexer": "ipython3",
   "version": "3.9.7"
  },
  "widgets": {
   "application/vnd.jupyter.widget-state+json": {
    "state": {},
    "version_major": 2,
    "version_minor": 0
   }
  }
 },
 "nbformat": 4,
 "nbformat_minor": 5
}
